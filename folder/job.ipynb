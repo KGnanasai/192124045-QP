{
  "nbformat": 4,
  "nbformat_minor": 0,
  "metadata": {
    "colab": {
      "provenance": [],
      "authorship_tag": "ABX9TyP8t8n9vPDN04SaF8ZmCXsk",
      "include_colab_link": true
    },
    "kernelspec": {
      "name": "python3",
      "display_name": "Python 3"
    },
    "language_info": {
      "name": "python"
    }
  },
  "cells": [
    {
      "cell_type": "markdown",
      "metadata": {
        "id": "view-in-github",
        "colab_type": "text"
      },
      "source": [
        "<a href=\"https://colab.research.google.com/github/KGnanasai/192124045-QP/blob/main/folder/job.ipynb\" target=\"_parent\"><img src=\"https://colab.research.google.com/assets/colab-badge.svg\" alt=\"Open In Colab\"/></a>"
      ]
    },
    {
      "cell_type": "code",
      "source": [
        "import pandas as pd\n",
        "\n",
        "# Sample job data\n",
        "data = [\n",
        "    [\"AD_PRES\", \"President\", 20080, 40000],\n",
        "    [\"AD_VP\", \"Administration Vice President\", 15000, 30000],\n",
        "    [\"AD_ASST\", \"Administration Assistant\", 3000, 6000],\n",
        "    [\"FI_MGR\", \"Finance Manager\", 8200, 16000],\n",
        "    [\"FI_ACCOUNT\", \"Accountant\", 4200, 9000],\n",
        "    [\"AC_MGR\", \"Accounting Manager\", 8200, 16000],\n",
        "    [\"AC_ACCOUNT\", \"Public Accountant\", 4200, 9000],\n",
        "    [\"SA_MAN\", \"Sales Manager\", 10000, 20080],\n",
        "    [\"SA_REP\", \"Sales Representative\", 6000, 12008],\n",
        "    [\"PU_MAN\", \"Purchasing Manager\", 8000, 15000],\n",
        "    [\"PU_CLERK\", \"Purchasing Clerk\", 2500, 5500],\n",
        "    [\"ST_MAN\", \"Stock Manager\", 5500, 8500],\n",
        "    [\"ST_CLERK\", \"Stock Clerk\", 2008, 5000],\n",
        "    [\"SH_CLERK\", \"Shipping Clerk\", 2500, 5500],\n",
        "    [\"IT_PROG\", \"Programmer\", 4000, 10000],\n",
        "    [\"MK_MAN\", \"Marketing Manager\", 9000, 15000],\n",
        "    [\"MK_REP\", \"Marketing Representative\", 4000, 9000],\n",
        "    [\"HR_REP\", \"Human Resources Representative\", 4000, 9000],\n",
        "    [\"PR_REP\", \"Public Relations Representative\", 4500, 10500]\n",
        "]\n",
        "df = pd.DataFrame(data, columns=[\"JOB_ID\", \"JOB_TITLE\", \"MIN_SALARY\", \"MAX_SALARY\"])\n",
        "df_sorted = df.sort_values(by='JOB_TITLE', ascending=False)\n",
        "print(df_sorted)\n"
      ],
      "metadata": {
        "colab": {
          "base_uri": "https://localhost:8080/"
        },
        "id": "1QdEYlsjiND9",
        "outputId": "45936962-7b90-4b94-bbd0-3a9b9805ad2a"
      },
      "execution_count": 3,
      "outputs": [
        {
          "output_type": "stream",
          "name": "stdout",
          "text": [
            "        JOB_ID                        JOB_TITLE  MIN_SALARY  MAX_SALARY\n",
            "11      ST_MAN                    Stock Manager        5500        8500\n",
            "12    ST_CLERK                      Stock Clerk        2008        5000\n",
            "13    SH_CLERK                   Shipping Clerk        2500        5500\n",
            "8       SA_REP             Sales Representative        6000       12008\n",
            "7       SA_MAN                    Sales Manager       10000       20080\n",
            "9       PU_MAN               Purchasing Manager        8000       15000\n",
            "10    PU_CLERK                 Purchasing Clerk        2500        5500\n",
            "18      PR_REP  Public Relations Representative        4500       10500\n",
            "6   AC_ACCOUNT                Public Accountant        4200        9000\n",
            "14     IT_PROG                       Programmer        4000       10000\n",
            "0      AD_PRES                        President       20080       40000\n",
            "16      MK_REP         Marketing Representative        4000        9000\n",
            "15      MK_MAN                Marketing Manager        9000       15000\n",
            "17      HR_REP   Human Resources Representative        4000        9000\n",
            "3       FI_MGR                  Finance Manager        8200       16000\n",
            "1        AD_VP    Administration Vice President       15000       30000\n",
            "2      AD_ASST         Administration Assistant        3000        6000\n",
            "5       AC_MGR               Accounting Manager        8200       16000\n",
            "4   FI_ACCOUNT                       Accountant        4200        9000\n"
          ]
        }
      ]
    }
  ]
}