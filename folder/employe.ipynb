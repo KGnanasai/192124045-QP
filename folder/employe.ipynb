{
  "nbformat": 4,
  "nbformat_minor": 0,
  "metadata": {
    "colab": {
      "provenance": [],
      "authorship_tag": "ABX9TyNcrrM3rguXzfFcUkmz+oqZ",
      "include_colab_link": true
    },
    "kernelspec": {
      "name": "python3",
      "display_name": "Python 3"
    },
    "language_info": {
      "name": "python"
    }
  },
  "cells": [
    {
      "cell_type": "markdown",
      "metadata": {
        "id": "view-in-github",
        "colab_type": "text"
      },
      "source": [
        "<a href=\"https://colab.research.google.com/github/KGnanasai/192124045-QP/blob/main/folder/employe.ipynb\" target=\"_parent\"><img src=\"https://colab.research.google.com/assets/colab-badge.svg\" alt=\"Open In Colab\"/></a>"
      ]
    },
    {
      "cell_type": "code",
      "execution_count": 1,
      "metadata": {
        "colab": {
          "base_uri": "https://localhost:8080/"
        },
        "id": "xKL1K7GqhIFp",
        "outputId": "7d814226-42e1-4e79-e9bb-c065a4d6d0cb"
      },
      "outputs": [
        {
          "output_type": "stream",
          "name": "stdout",
          "text": [
            "Department_ids in given data set is:\n",
            "0      10\n",
            "1      20\n",
            "2      30\n",
            "3      40\n",
            "4      50\n",
            "5      60\n",
            "6      70\n",
            "7      80\n",
            "8      90\n",
            "9     100\n",
            "10    110\n",
            "11    120\n",
            "12    130\n",
            "13    140\n",
            "14    150\n",
            "15    160\n",
            "16    170\n",
            "17    180\n",
            "18    190\n",
            "19    200\n",
            "20    210\n",
            "21    220\n",
            "22    230\n",
            "23    240\n",
            "24    250\n",
            "25    260\n",
            "26    270\n",
            "Name: DEPARTMENT_ID, dtype: int64\n"
          ]
        }
      ],
      "source": [
        "import pandas as pd\n",
        "import numpy as np\n",
        "\n",
        "data = {\n",
        "    'DEPARTMENT_ID': [10, 20, 30, 40, 50, 60, 70, 80, 90, 100, 110, 120, 130, 140, 150, 160, 170, 180, 190, 200, 210, 220, 230, 240, 250, 260, 270],\n",
        "    'DEPARTMENT_NAME': ['Administration', 'Marketing', 'Purchasing', 'Human Resources', 'Shipping', 'IT', 'Public Relations', 'Sales', 'Executive', 'Finance', 'Accounting', 'Treasury', 'Corporate Tax', 'Control And Credit', 'Shareholder Services', 'Benefits', 'Manufacturing', 'Construction', 'Contracting', 'Operations', 'IT Support', 'NOC', 'IT Helpdesk', 'Government Sales', 'Retail Sales', 'Recruiting', 'Payroll'],\n",
        "    'MANAGER_ID': [200, 201, 114, 203, 121, 103, 204, 145, 100, 108, 205, np.nan, np.nan, np.nan, np.nan, np.nan, np.nan, np.nan, np.nan, np.nan, np.nan, np.nan, np.nan, np.nan, np.nan, np.nan, np.nan],\n",
        "    'LOCATION_ID': [1700, 1800, 1700, 2400, 1500, 1400, 2700, 2500, 1700, 1700, 1700, 1700, 1700, 1700, 1700, 1700, 1700, 1700, 1700, 1700, 1700, 1700, 1700, 1700, 1700, 1700, 1700]\n",
        "}\n",
        "\n",
        "df = pd.DataFrame(data)\n",
        "distinct_department_ids = df['DEPARTMENT_ID'].drop_duplicates()\n",
        "print(\"Department_ids in given data set is:\")\n",
        "print(distinct_department_ids)"
      ]
    },
    {
      "cell_type": "code",
      "source": [
        "import pandas as pd\n",
        "data = [\n",
        "    (102, '2001-01-13', '2006-07-24', 'IT_PROG', 60),\n",
        "    (101, '1997-09-21', '2001-10-27', 'AC_ACCOUNT', 110),\n",
        "    (101, '2001-10-28', '2005-03-15', 'AC_MGR', 110),\n",
        "    (201, '2004-02-17', '2007-12-19', 'MK_REP', 20),\n",
        "    (114, '2006-03-24', '2007-12-31', 'ST_CLERK', 50),\n",
        "    (122, '2007-01-01', '2007-12-31', 'ST_CLERK', 50),\n",
        "    (200, '1995-09-17', '2001-06-17', 'AD_ASST', 90),\n",
        "    (176, '2006-03-24', '2006-12-31', 'SA_REP', 80),\n",
        "    (176, '2007-01-01', '2007-12-31', 'SA_MAN', 80),\n",
        "    (200, '2002-07-01', '2006-12-31', 'AC_ACCOUNT', 90)\n",
        "]\n",
        "df = pd.DataFrame(data, columns=['EMPLOYEE_ID', 'START_DATE', 'END_DATE', 'JOB_ID', 'DEPARTMENT_ID'])\n",
        "print(df)\n",
        "job_count=df.groupby('EMPLOYEE_ID')['JOB_ID'].nunique()\n",
        "a= job_count [ job_count >=2 ]\n",
        "print(\"Employees with two or more Jobs : \" ,a)"
      ],
      "metadata": {
        "colab": {
          "base_uri": "https://localhost:8080/"
        },
        "id": "7oQg_fOOhzND",
        "outputId": "c7086f31-d77c-4f9b-88e3-d457ae39f2d7"
      },
      "execution_count": 2,
      "outputs": [
        {
          "output_type": "stream",
          "name": "stdout",
          "text": [
            "   EMPLOYEE_ID  START_DATE    END_DATE      JOB_ID  DEPARTMENT_ID\n",
            "0          102  2001-01-13  2006-07-24     IT_PROG             60\n",
            "1          101  1997-09-21  2001-10-27  AC_ACCOUNT            110\n",
            "2          101  2001-10-28  2005-03-15      AC_MGR            110\n",
            "3          201  2004-02-17  2007-12-19      MK_REP             20\n",
            "4          114  2006-03-24  2007-12-31    ST_CLERK             50\n",
            "5          122  2007-01-01  2007-12-31    ST_CLERK             50\n",
            "6          200  1995-09-17  2001-06-17     AD_ASST             90\n",
            "7          176  2006-03-24  2006-12-31      SA_REP             80\n",
            "8          176  2007-01-01  2007-12-31      SA_MAN             80\n",
            "9          200  2002-07-01  2006-12-31  AC_ACCOUNT             90\n",
            "Employees with two or more Jobs :  EMPLOYEE_ID\n",
            "101    2\n",
            "176    2\n",
            "200    2\n",
            "Name: JOB_ID, dtype: int64\n"
          ]
        }
      ]
    }
  ]
}