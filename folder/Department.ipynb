{
  "nbformat": 4,
  "nbformat_minor": 0,
  "metadata": {
    "colab": {
      "provenance": [],
      "authorship_tag": "ABX9TyP81V1k5NDTImBh1VZZJe3g",
      "include_colab_link": true
    },
    "kernelspec": {
      "name": "python3",
      "display_name": "Python 3"
    },
    "language_info": {
      "name": "python"
    }
  },
  "cells": [
    {
      "cell_type": "markdown",
      "metadata": {
        "id": "view-in-github",
        "colab_type": "text"
      },
      "source": [
        "<a href=\"https://colab.research.google.com/github/KGnanasai/192124045-QP/blob/main/folder/Department.ipynb\" target=\"_parent\"><img src=\"https://colab.research.google.com/assets/colab-badge.svg\" alt=\"Open In Colab\"/></a>"
      ]
    },
    {
      "cell_type": "code",
      "execution_count": 1,
      "metadata": {
        "colab": {
          "base_uri": "https://localhost:8080/"
        },
        "id": "xKL1K7GqhIFp",
        "outputId": "7d814226-42e1-4e79-e9bb-c065a4d6d0cb"
      },
      "outputs": [
        {
          "output_type": "stream",
          "name": "stdout",
          "text": [
            "Department_ids in given data set is:\n",
            "0      10\n",
            "1      20\n",
            "2      30\n",
            "3      40\n",
            "4      50\n",
            "5      60\n",
            "6      70\n",
            "7      80\n",
            "8      90\n",
            "9     100\n",
            "10    110\n",
            "11    120\n",
            "12    130\n",
            "13    140\n",
            "14    150\n",
            "15    160\n",
            "16    170\n",
            "17    180\n",
            "18    190\n",
            "19    200\n",
            "20    210\n",
            "21    220\n",
            "22    230\n",
            "23    240\n",
            "24    250\n",
            "25    260\n",
            "26    270\n",
            "Name: DEPARTMENT_ID, dtype: int64\n"
          ]
        }
      ],
      "source": [
        "import pandas as pd\n",
        "import numpy as np\n",
        "\n",
        "data = {\n",
        "    'DEPARTMENT_ID': [10, 20, 30, 40, 50, 60, 70, 80, 90, 100, 110, 120, 130, 140, 150, 160, 170, 180, 190, 200, 210, 220, 230, 240, 250, 260, 270],\n",
        "    'DEPARTMENT_NAME': ['Administration', 'Marketing', 'Purchasing', 'Human Resources', 'Shipping', 'IT', 'Public Relations', 'Sales', 'Executive', 'Finance', 'Accounting', 'Treasury', 'Corporate Tax', 'Control And Credit', 'Shareholder Services', 'Benefits', 'Manufacturing', 'Construction', 'Contracting', 'Operations', 'IT Support', 'NOC', 'IT Helpdesk', 'Government Sales', 'Retail Sales', 'Recruiting', 'Payroll'],\n",
        "    'MANAGER_ID': [200, 201, 114, 203, 121, 103, 204, 145, 100, 108, 205, np.nan, np.nan, np.nan, np.nan, np.nan, np.nan, np.nan, np.nan, np.nan, np.nan, np.nan, np.nan, np.nan, np.nan, np.nan, np.nan],\n",
        "    'LOCATION_ID': [1700, 1800, 1700, 2400, 1500, 1400, 2700, 2500, 1700, 1700, 1700, 1700, 1700, 1700, 1700, 1700, 1700, 1700, 1700, 1700, 1700, 1700, 1700, 1700, 1700, 1700, 1700]\n",
        "}\n",
        "\n",
        "df = pd.DataFrame(data)\n",
        "distinct_department_ids = df['DEPARTMENT_ID'].drop_duplicates()\n",
        "print(\"Department_ids in given data set is:\")\n",
        "print(distinct_department_ids)"
      ]
    }
  ]
}